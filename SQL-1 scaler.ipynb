{
 "cells": [
  {
   "cell_type": "markdown",
   "id": "fa31c600",
   "metadata": {},
   "source": [
    "# Introduction to DBMS and SQL"
   ]
  },
  {
   "cell_type": "markdown",
   "id": "02e4b3aa",
   "metadata": {},
   "source": [
    "# SQL is Mandotary in the world of Data Science. There is no exception in using SQL."
   ]
  },
  {
   "cell_type": "markdown",
   "id": "bcb02243",
   "metadata": {},
   "source": [
    "# DBMS (Data Base Management Systems).\n",
    "# SQL (Structured Query Language)."
   ]
  },
  {
   "cell_type": "markdown",
   "id": "70097bc6",
   "metadata": {},
   "source": [
    "# ETL - (export,transform,load) tools."
   ]
  },
  {
   "cell_type": "markdown",
   "id": "4901ff75",
   "metadata": {},
   "source": [
    "# ----What is Database?"
   ]
  },
  {
   "cell_type": "code",
   "execution_count": 35,
   "id": "1d633d71",
   "metadata": {},
   "outputs": [],
   "source": [
    "# Database in nothing but which helps us in stroing the Data in form of a table. \n",
    "# A table is something that consists of different columns and we can store the data in the form of rows. \n",
    "# We can store this data in form of multiple tables.\n",
    "# \"Management systems\" is nothing but the managing the data in Data base either by:\n",
    "   #--creating the tables.\n",
    "   #--insert data in to table.\n",
    "   #--update the data.\n",
    "# \"Data Manaagement\" is done with the help of \"SQL\"."
   ]
  },
  {
   "cell_type": "code",
   "execution_count": 36,
   "id": "a845638b",
   "metadata": {},
   "outputs": [],
   "source": [
    "# In any organization depending on the functionality of the organization the data is stored in form of multiple tables.\n",
    "# When there is need of data from different tables:\n",
    "       # we can build a relation between tables and extract the information.\n",
    "       # This can be done with the help of \"Joins\".\n",
    "       # \"Joins\" help us build the relationship between the tables."
   ]
  },
  {
   "cell_type": "markdown",
   "id": "96ac94e0",
   "metadata": {},
   "source": [
    "# Dimension table."
   ]
  },
  {
   "cell_type": "code",
   "execution_count": 37,
   "id": "ed68ad58",
   "metadata": {},
   "outputs": [],
   "source": [
    "# Dimension tables are the ones which have the actual data (for ex - customer id, customer and customer adress etc;)"
   ]
  },
  {
   "cell_type": "markdown",
   "id": "f77576a6",
   "metadata": {},
   "source": [
    "# Fact table."
   ]
  },
  {
   "cell_type": "code",
   "execution_count": 38,
   "id": "63633143",
   "metadata": {},
   "outputs": [],
   "source": [
    "# Fact tables are something which have a relation with the dimesnion tables(for ex - Tranactions made by customers)."
   ]
  },
  {
   "cell_type": "markdown",
   "id": "87deb41e",
   "metadata": {},
   "source": [
    "# ER diagram."
   ]
  },
  {
   "cell_type": "code",
   "execution_count": 39,
   "id": "69e7c2ee",
   "metadata": {},
   "outputs": [],
   "source": [
    "# \"Entity Relationship\" diagram.\n",
    "# ER diagram is the architecture of the data set provided.(different tables,relation between the tables,how to join tables etc;)\n",
    "# called \"Er\" because it have different entities related to data."
   ]
  },
  {
   "cell_type": "code",
   "execution_count": 40,
   "id": "7b626c0f",
   "metadata": {},
   "outputs": [],
   "source": [
    "# If there is a null value in the data. It means there is no data present.\n",
    "# If there is an empty space. It means data is present in form of something and data is occupied."
   ]
  },
  {
   "cell_type": "markdown",
   "id": "c1707792",
   "metadata": {},
   "source": [
    "# Schema"
   ]
  },
  {
   "cell_type": "code",
   "execution_count": 41,
   "id": "59f13e53",
   "metadata": {},
   "outputs": [],
   "source": [
    "# Schema describes the structure and organization of data in a database system. "
   ]
  },
  {
   "cell_type": "markdown",
   "id": "383a2a55",
   "metadata": {},
   "source": [
    "# Data tyes"
   ]
  },
  {
   "cell_type": "code",
   "execution_count": 42,
   "id": "8ec52f9d",
   "metadata": {},
   "outputs": [],
   "source": [
    "# String , Numerical, Date and time, char, varchar, int, bool etc;"
   ]
  },
  {
   "cell_type": "markdown",
   "id": "07ae538c",
   "metadata": {},
   "source": [
    "# --------Keys--------"
   ]
  },
  {
   "cell_type": "markdown",
   "id": "20e19016",
   "metadata": {},
   "source": [
    "# Primary key"
   ]
  },
  {
   "cell_type": "code",
   "execution_count": 43,
   "id": "3b193abf",
   "metadata": {},
   "outputs": [],
   "source": [
    "# A primary key is something that is used to identify a unique value. Primary key do not have duplicate values. \n",
    "# We cannot enter duplicate values in to a column that is called a primary key.\n",
    "# Examples are Aadhar card, ssn, pan card number etc;"
   ]
  },
  {
   "cell_type": "markdown",
   "id": "641f5ddc",
   "metadata": {},
   "source": [
    "# Foreign key"
   ]
  },
  {
   "cell_type": "code",
   "execution_count": 44,
   "id": "88e94d7f",
   "metadata": {},
   "outputs": [],
   "source": [
    "# Foriegn key is something that is created in a table which refers to primary key of another table.\n",
    "# This key allows the values that are only present in the primary key table. \n",
    "# Foriegn key can have duplicates. only constarint is it should be present in the primary key table.\n",
    "# we can have multiple foriegn keys referring to primary keys in different tables each.\n",
    "# Foreign key is the reference of primary key in a different table."
   ]
  },
  {
   "cell_type": "markdown",
   "id": "cd4bd7fc",
   "metadata": {},
   "source": [
    "# Composite key"
   ]
  },
  {
   "cell_type": "code",
   "execution_count": 45,
   "id": "1f51e8e3",
   "metadata": {},
   "outputs": [],
   "source": [
    "# Multiple primary keys together is called a composite key."
   ]
  },
  {
   "cell_type": "markdown",
   "id": "32c8839c",
   "metadata": {},
   "source": [
    "# super key"
   ]
  },
  {
   "cell_type": "code",
   "execution_count": 46,
   "id": "ff3b49cf",
   "metadata": {},
   "outputs": [],
   "source": [
    "# when a primary key is not available, there will be attributes to identify a unique value.\n",
    "# That unique value is called a super key."
   ]
  },
  {
   "cell_type": "markdown",
   "id": "33a7a9e9",
   "metadata": {},
   "source": [
    "# Candidate key"
   ]
  },
  {
   "cell_type": "code",
   "execution_count": 55,
   "id": "4ee6616b",
   "metadata": {},
   "outputs": [],
   "source": [
    "# The minimum number of columns that help to identify a unique value is a candiate key."
   ]
  },
  {
   "cell_type": "markdown",
   "id": "e18c7666",
   "metadata": {},
   "source": [
    "# Meanings of symbols in Er diagram."
   ]
  },
  {
   "cell_type": "code",
   "execution_count": 48,
   "id": "164325d0",
   "metadata": {},
   "outputs": [],
   "source": [
    "# See the video for clear understanding. bookmarked as symbol meanings in ER diagrams."
   ]
  },
  {
   "cell_type": "markdown",
   "id": "d062201d",
   "metadata": {},
   "source": [
    "# SQL Commands"
   ]
  },
  {
   "cell_type": "code",
   "execution_count": 49,
   "id": "d1f0ae42",
   "metadata": {},
   "outputs": [],
   "source": [
    "# DDL - Data Definition language.\n",
    "# DML - Data manipulation language.\n",
    "# DCL - Data control language\n",
    "# TCL - Transaction control language.\n",
    "# DQL - Data query language."
   ]
  },
  {
   "cell_type": "markdown",
   "id": "d9ed12bf",
   "metadata": {},
   "source": [
    "# -----#####"
   ]
  },
  {
   "cell_type": "markdown",
   "id": "a4cde874",
   "metadata": {},
   "source": [
    "# In SQL always use the column names in the queries rather than the (*) symbol."
   ]
  },
  {
   "cell_type": "code",
   "execution_count": 50,
   "id": "1140336f",
   "metadata": {},
   "outputs": [],
   "source": [
    "# The following concepts are very important from interview point of view."
   ]
  },
  {
   "cell_type": "code",
   "execution_count": 51,
   "id": "2d125222",
   "metadata": {},
   "outputs": [],
   "source": [
    "# Every DBMS systems should maintain the ACID properties\n",
    "# A - Atomocity\n",
    "# C - Consistency\n",
    "# I - Isolation\n",
    "# D - Durability."
   ]
  },
  {
   "cell_type": "code",
   "execution_count": 53,
   "id": "6dab57cd",
   "metadata": {},
   "outputs": [],
   "source": [
    "# Rdbms systems can only handle certain limit of data. So the \"Big data systems\" came in to picture.\n",
    "# Rdbms are for OLTP (Online Transactional purposes).\n",
    "# Big data systems are not meant for Transactional purposes.\n",
    "# Big data systems are only restricted for OLAP (Online analysis process)."
   ]
  },
  {
   "cell_type": "code",
   "execution_count": 54,
   "id": "dd338bdb",
   "metadata": {},
   "outputs": [],
   "source": [
    "# Watch SQL-1 from 2:12 for 20 minutes for the above."
   ]
  },
  {
   "cell_type": "code",
   "execution_count": null,
   "id": "71a1a71c",
   "metadata": {},
   "outputs": [],
   "source": []
  },
  {
   "cell_type": "code",
   "execution_count": null,
   "id": "c9eac198",
   "metadata": {},
   "outputs": [],
   "source": []
  }
 ],
 "metadata": {
  "kernelspec": {
   "display_name": "Python 3 (ipykernel)",
   "language": "python",
   "name": "python3"
  },
  "language_info": {
   "codemirror_mode": {
    "name": "ipython",
    "version": 3
   },
   "file_extension": ".py",
   "mimetype": "text/x-python",
   "name": "python",
   "nbconvert_exporter": "python",
   "pygments_lexer": "ipython3",
   "version": "3.9.7"
  }
 },
 "nbformat": 4,
 "nbformat_minor": 5
}
